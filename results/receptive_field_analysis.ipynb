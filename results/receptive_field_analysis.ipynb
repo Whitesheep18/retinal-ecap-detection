{
 "cells": [
  {
   "cell_type": "markdown",
   "metadata": {},
   "source": [
    "## Receptive field"
   ]
  },
  {
   "cell_type": "code",
   "execution_count": null,
   "metadata": {},
   "outputs": [],
   "source": [
    "import matplotlib.pyplot as plt\n",
    "import itertools\n",
    "import numpy as np\n",
    "from matplotlib.cm import get_cmap\n",
    "import matplotlib.patches as mpatches\n",
    "from src.utils import save_figure\n"
   ]
  },
  {
   "cell_type": "code",
   "execution_count": 2,
   "metadata": {},
   "outputs": [
    {
     "name": "stdout",
     "output_type": "stream",
     "text": [
      "Receptive field size: 115\n"
     ]
    }
   ],
   "source": [
    "def analytical_solution(k, s, L):\n",
    "    \"\"\"\n",
    "    Calculate the receptive field size for a multi-layer neural network.\n",
    "\n",
    "    Parameters:\n",
    "    k : list of int\n",
    "        Layer kernel sizes [k_1, k_2, ..., k_L].\n",
    "    s : list of int\n",
    "        Layer strides [s_1, s_2, ..., s_L].\n",
    "    L : int\n",
    "        Number of layers.\n",
    "\n",
    "    Returns:\n",
    "    int\n",
    "        The calculated receptive field size.\n",
    "    \"\"\"\n",
    "    r = 1  # Initial receptive field size\n",
    "\n",
    "    for l in range(1, L + 1):  # Iterate over each layer\n",
    "        S = 1  # Reset cumulative stride\n",
    "        for i in range(1, l):  # Compute the product of strides up to (l-1)\n",
    "            S *= s[i - 1]  # Use zero-based indexing\n",
    "        r += (k[l - 1] - 1) * S  # Update receptive field size for the layer\n",
    "\n",
    "    return r\n",
    "\n",
    "\n",
    "# Example usage:\n",
    "k = [20,20,20,20,20,20]  # Kernel sizes for layers\n",
    "s = [1,1,1,1,1,1]  # Strides for layers\n",
    "L = len(k)  # Number of layers\n",
    "\n",
    "receptive_field = analytical_solution(k, s, L)\n",
    "print(f\"Receptive field size: {receptive_field}\")"
   ]
  },
  {
   "cell_type": "code",
   "execution_count": 62,
   "metadata": {},
   "outputs": [
    {
     "name": "stdout",
     "output_type": "stream",
     "text": [
      "Receptive field size: 85\n"
     ]
    }
   ],
   "source": [
    "k = [3,3,40]  # Kernel sizes for layers\n",
    "s = [2,1,1]  # Strides for layers\n",
    "L = len(k)  # Number of layers\n",
    "\n",
    "receptive_field = analytical_solution(k, s, L)\n",
    "print(f\"Receptive field size: {receptive_field}\")\n"
   ]
  },
  {
   "cell_type": "code",
   "execution_count": 15,
   "metadata": {},
   "outputs": [
    {
     "name": "stdout",
     "output_type": "stream",
     "text": [
      "Receptive field size: 235\n"
     ]
    }
   ],
   "source": [
    "k = [3,3,20,20,20,20,20,20]  # Kernel sizes for layers\n",
    "s = [2,1,1,1,1,1,1,1]  # Strides for layers\n",
    "L = len(k)  # Number of layers\n",
    "\n",
    "receptive_field = analytical_solution(k, s, L)\n",
    "print(f\"Receptive field size: {receptive_field}\")"
   ]
  },
  {
   "cell_type": "code",
   "execution_count": 22,
   "metadata": {},
   "outputs": [
    {
     "name": "stdout",
     "output_type": "stream",
     "text": [
      "Receptive field size: 235\n"
     ]
    }
   ],
   "source": [
    "k = [3,3,20,20,20,20,20,20]  # Kernel sizes for layers\n",
    "s = [2,1,1,1,1,1,1,1]  # Strides for layers\n",
    "L = len(k)  # Number of layers\n",
    "\n",
    "receptive_field = analytical_solution(k, s, L)\n",
    "print(f\"Receptive field size: {receptive_field}\")"
   ]
  },
  {
   "cell_type": "code",
   "execution_count": 13,
   "metadata": {},
   "outputs": [],
   "source": [
    "def visualize_multiple_receptive_fields(configs, subplot_position, new_labels, title, bold_paths):\n",
    "    \"\"\"\n",
    "    Visualize the receptive field growth for multiple configurations on the same plot.\n",
    "\n",
    "    Parameters:\n",
    "    configs : list of dict\n",
    "        Each dict contains:\n",
    "        - 'k': list of kernel sizes for each layer [k_1, k_2, ..., k_L].\n",
    "        - 's': list of strides for each layer [s_1, s_2, ..., s_L].\n",
    "        - 'label': str, label for the configuration.\n",
    "    subplot_position : tuple\n",
    "        Position of the subplot (rows, cols, index).\n",
    "    title : str\n",
    "        Title for the subplot.\n",
    "    bold_paths : set\n",
    "        Set of kernel sequences that should be bold.\n",
    "    \"\"\"\n",
    "    plt.subplot(*subplot_position)\n",
    "    \n",
    "    common_color = \"#1f77b4\"  # Use the same color for all paths\n",
    "    bold_linewidth = 2.0\n",
    "    normal_linewidth = 0.7\n",
    "    \n",
    "    legend_handles = []  # Store legend entries\n",
    "\n",
    "    for config in configs:\n",
    "        k = tuple(config['k'])  # Convert to tuple for comparison\n",
    "        s = config['s']\n",
    "        L = len(k)  # Number of layers\n",
    "\n",
    "        # Initialize receptive field\n",
    "        r = 1  # Initial receptive field size\n",
    "        receptive_fields = []  # Store RF for each layer\n",
    "        layers = list(range(1, L + 1))  # Layer indices\n",
    "\n",
    "        # Calculate receptive field size for each layer\n",
    "        for l in range(1, L + 1):\n",
    "            S = 1  # Cumulative stride\n",
    "            for i in range(1, l):  # Compute cumulative stride\n",
    "                S *= s[i - 1]\n",
    "            r += (k[l - 1] - 1) * S\n",
    "            receptive_fields.append(r)\n",
    "\n",
    "        # Check if the path should be bold\n",
    "        is_bold = k in bold_paths\n",
    "        linewidth = bold_linewidth if is_bold else normal_linewidth\n",
    "        color_value = \"black\" if is_bold else common_color\n",
    "        alpha_value = 1 if is_bold else 0.5\n",
    "\n",
    "        # Plot the progression\n",
    "        plt.plot(layers, receptive_fields, linestyle=\"-\", alpha=alpha_value, linewidth=linewidth, color=color_value)\n",
    "\n",
    "        # Add to legend if bold\n",
    "        if is_bold:\n",
    "            legend_handles.append(mpatches.Patch(color=\"black\", label=f\"Kernel size path: {k}\"))\n",
    "\n",
    "    plt.axhline(y=134, color='red', linestyle='dashed')\n",
    "    plt.text(0.9, 140, \"AP length\", fontsize=6, color='red')\n",
    "\n",
    "    # Customize the plot\n",
    "    plt.title(title)\n",
    "    plt.ylabel(\"Receptive Field Size\")\n",
    "    plt.ylim(0, 730)\n",
    "    plt.xticks(ticks=layers, labels=new_labels, rotation=75)\n",
    "    plt.grid(True, linestyle=\"--\", alpha=0.7)\n",
    "\n",
    "    # Add legend for bold paths\n",
    "    if legend_handles:\n",
    "        plt.legend(handles=legend_handles, fontsize=5)\n",
    "\n",
    "\n",
    "t = [3, 10, 20, 40]\n",
    "c = list(itertools.combinations_with_replacement(t, 9))\n",
    "unq = list(set(c))\n",
    "\n",
    "# bold_paths = {\n",
    "#     (3, 10, 20, 20, 20, 40),  # Example of a bold path\n",
    "#     (20, 20, 20, 20, 20, 20),  # Another bold path\n",
    "#     (40, 40, 40, 40, 40, 40)   # Another one\n",
    "# }\n",
    "\n",
    "# bold_paths_cnn = {\n",
    "#     (3, 3, 3, 10, 20, 20, 20, 40),  # Example of a bold path\n",
    "#     (3, 3, 20, 20, 20, 20, 20, 20),  # Another bold path\n",
    "#     (3, 3, 40, 40, 40, 40, 40, 40)   # Another one\n",
    "# }\n",
    "\n",
    "bold_paths = {\n",
    "}\n",
    "\n",
    "bold_paths_cnn = {\n",
    "}\n",
    "\n",
    "\n",
    "configs_with_cnn = [\n",
    "    {\n",
    "        'k': np.append([3, 3], comb),\n",
    "        's': [1, 2, 1, 1, 1, 1, 1, 1, 1,1,1,1],\n",
    "        'label': f'Conv {comb[2]}x1: With initial CNN'\n",
    "    }\n",
    "    for comb in unq\n",
    "]\n",
    "\n",
    "configs = [\n",
    "    {\n",
    "        'k': comb,\n",
    "        's': [1, 1, 1, 1, 1, 1, 1,1,1,1],\n",
    "        'label': f'Conv {comb[-1]}x1: With initial CNN'\n",
    "    }\n",
    "    for comb in unq\n",
    "]\n",
    "\n",
    "\n",
    "visualize_multiple_receptive_fields(configs, \n",
    "                                    new_labels=[\"Conv1\", \"Conv2\", \"Conv3\", \"Conv4\", \"Conv5\", \"Conv6\", \"Conv7\", \"Conv8\", \"Conv9\"],\n",
    "                                    title=\"Receptive Field Growth for Unique Paths\", \n",
    "                                    subplot_position=(1, 2, 1),\n",
    "                                    bold_paths=bold_paths)\n",
    "\n",
    "visualize_multiple_receptive_fields(configs_with_cnn, \n",
    "                                    new_labels=[\"Conv k=3, stride=2\", \"Conv k=3, stride=1\", \"Conv1\", \"Conv2\", \"Conv3\", \"Conv4\", \"Conv5\", \"Conv6\", \"Conv7\", \"Conv8\", \"Conv9\"],\n",
    "                                    title=\"Receptive Field Growth for Unique Paths with Initial CNN\", \n",
    "                                    subplot_position=(1, 2, 2),\n",
    "                                    bold_paths=bold_paths_cnn)\n",
    "\n",
    "save_figure(name=\"receptive_field_with_cnn_d9\", figdir='./plots', height=4, width=6)\n"
   ]
  }
 ],
 "metadata": {
  "kernelspec": {
   "display_name": "irishcream",
   "language": "python",
   "name": "python3"
  },
  "language_info": {
   "codemirror_mode": {
    "name": "ipython",
    "version": 3
   },
   "file_extension": ".py",
   "mimetype": "text/x-python",
   "name": "python",
   "nbconvert_exporter": "python",
   "pygments_lexer": "ipython3",
   "version": "3.10.12"
  }
 },
 "nbformat": 4,
 "nbformat_minor": 2
}
