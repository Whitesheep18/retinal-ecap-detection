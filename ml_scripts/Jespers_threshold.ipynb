{
 "cells": [
  {
   "cell_type": "markdown",
   "metadata": {},
   "source": [
    "Imports"
   ]
  },
  {
   "cell_type": "code",
   "execution_count": 1,
   "metadata": {},
   "outputs": [],
   "source": [
    "import neo\n",
    "import matplotlib.pyplot as plt\n",
    "import matplotlib.cm as cm\n",
    "import pandas as pd\n",
    "import numpy as np\n",
    "import seaborn as sns\n",
    "import scipy.stats as stats\n"
   ]
  },
  {
   "cell_type": "markdown",
   "metadata": {},
   "source": [
    "Loadning of unprocessed data"
   ]
  },
  {
   "cell_type": "code",
   "execution_count": 23,
   "metadata": {},
   "outputs": [
    {
     "name": "stdout",
     "output_type": "stream",
     "text": [
      "Data shape: (6, 300300, 32)\n"
     ]
    }
   ],
   "source": [
    "# List of filenames for each eye\n",
    "filenames = [\n",
    "    \"/Users/marielunde/Desktop/Thesis/all data/3D/Eye 1/10Hz_1V_neg500mV_1ms003.ns5\",\n",
    "    \"/Users/marielunde/Desktop/Thesis/all data/3D/Eye 2/10Hz_1V_neg500mV_1ms002.ns5\",\n",
    "    \"/Users/marielunde/Desktop/Thesis/all data/3D/Eye 3/10Hz_1V_neg500mV_1ms004.ns5\",\n",
    "    \"/Users/marielunde/Desktop/Thesis/all data/3D/Eye 4/10Hz_1V_neg500mV_1ms018.ns5\",\n",
    "    \"/Users/marielunde/Desktop/Thesis/all data/3D/Eye 5/10Hz_1V_neg500mV_1ms004.ns5\",\n",
    "    \"/Users/marielunde/Desktop/Thesis/all data/3D/Eye 6/10Hz_1V_neg500mV_1ms011.ns5\"\n",
    "]\n",
    "\n",
    "# Initialize an empty list to hold the data from all eyes\n",
    "all_data = []\n",
    "\n",
    "# Loop through each file and read the data\n",
    "for filename in filenames:\n",
    "    reader = neo.io.BlackrockIO(filename=filename)\n",
    "    \n",
    "    # Read the data from the file\n",
    "    block_SA = reader.read_block()\n",
    "    \n",
    "    # Access the first segment\n",
    "    segment_SA = block_SA.segments[0]\n",
    "    \n",
    "    # Access the first analog signal within this segment\n",
    "    analog_signal_SA = segment_SA.analogsignals[0]\n",
    "    \n",
    "    # Access the signal data as a NumPy array and append it to the list\n",
    "    data_SA = np.asarray(analog_signal_SA.magnitude)\n",
    "    all_data.append(data_SA)\n",
    "\n",
    "# Print shape of the data\n",
    "print(f\"Data shape: {np.shape(all_data)}\")\n"
   ]
  },
  {
   "cell_type": "markdown",
   "metadata": {},
   "source": [
    "NB the following functions also count the SA as a spike "
   ]
  },
  {
   "cell_type": "code",
   "execution_count": 31,
   "metadata": {},
   "outputs": [],
   "source": [
    "def find_spike_indices(eye_data, processed = False):\n",
    "    \"\"\"\n",
    "    Function to find the indices of spikes in each channel of the given eye_data.\n",
    "\n",
    "    Parameters:\n",
    "        eye_data (pd.Series): A series containing the data for each channel.\n",
    "\n",
    "    Returns:\n",
    "        pd.DataFrame: A DataFrame where each column corresponds to a channel and\n",
    "                      contains the list of spike indices (section, index) for that channel.\n",
    "    \"\"\"\n",
    "\n",
    "    spike_indices = []  # List to store spike indices for each channel\n",
    "\n",
    "    # Iterate over each channel\n",
    "    for channel_idx, channel in enumerate(eye_data):\n",
    "        channel_spike_indices = []  # List to store spike indices for the current channel\n",
    "\n",
    "        if processed == False:\n",
    "            channel = channel[:,np.newaxis]\n",
    "\n",
    "        for section_idx, section in enumerate(channel.T[:, :]):  # Transpose to iterate over columns\n",
    "            # Compute the threshold for the current section\n",
    "            threshold = np.sqrt(np.mean(np.square(section), axis=0)) * 4.5\n",
    "\n",
    "            detention = 0\n",
    "            first_spike = True  # Flag to handle the first spike\n",
    "\n",
    "            # Iterate over each data point in the section\n",
    "            for i, data_point in enumerate(section):\n",
    "                if first_spike:\n",
    "                    if data_point > threshold:\n",
    "                        # Look at the next 30 data points or until the end of the section\n",
    "                        look_ahead_end = min(i + 30, len(section))\n",
    "                        look_ahead_data = section[i:look_ahead_end]\n",
    "\n",
    "                        # Find the index of the maximum value in the look-ahead window\n",
    "                        max_index = np.argmax(look_ahead_data) + i  # Add i to get the correct index in the original section\n",
    "\n",
    "                        # Append the index of the maximum value\n",
    "                        channel_spike_indices.append((i, max_index))\n",
    "\n",
    "                        first_spike = False\n",
    "                        detention = 0\n",
    "                else:\n",
    "                    if data_point > threshold and detention > 30:\n",
    "                        # Look at the next 30 data points or until the end of the section\n",
    "                        look_ahead_end = min(i + 30, len(section))\n",
    "                        look_ahead_data = section[i:look_ahead_end]\n",
    "\n",
    "                        # Find the index of the maximum value in the look-ahead window\n",
    "                        max_index = np.argmax(look_ahead_data) + i  # Add i to get the correct index in the original section\n",
    "\n",
    "                        # Append the index of the maximum value\n",
    "                        channel_spike_indices.append((i, max_index))\n",
    "\n",
    "                        detention = 0\n",
    "                    else:\n",
    "                        detention += 1\n",
    "\n",
    "        # Store the spike indices for the current channel\n",
    "        spike_indices.append(channel_spike_indices)\n",
    "\n",
    "\n",
    "    return spike_indices"
   ]
  },
  {
   "cell_type": "code",
   "execution_count": 36,
   "metadata": {},
   "outputs": [],
   "source": [
    "def plot_spikes_with_data_unprocessed(eye_data, channel_idx, spike_indices, num_points=None):\n",
    "    # Extract the data for the specific channel and section\n",
    "    channel = eye_data[channel_idx]\n",
    "    channel = channel[:, np.newaxis]\n",
    "    section = channel.T[:]  # Extract the specific section data\n",
    "\n",
    "    # Extract the spike indices for the specific section\n",
    "    spike_points = [tup[1] for tup in spike_indices[channel_idx]]\n",
    "\n",
    "    # If num_points is specified, limit the section and spike points\n",
    "    if num_points is not None:\n",
    "        section = section[:num_points]\n",
    "        spike_points = [sp for sp in spike_points if sp < num_points]\n",
    "\n",
    "    # Plot the data series\n",
    "    plt.figure(figsize=(10, 6))\n",
    "    plt.plot(section, label=f'Channel {channel_idx + 1}', color='blue')\n",
    "\n",
    "    # Overlay the spikes with red dots\n",
    "    plt.scatter(spike_points, section[spike_points], color='red', label='Spikes', zorder=5)\n",
    "\n",
    "    # Set plot labels and title\n",
    "    plt.xlabel('Data Point Index')\n",
    "    plt.ylabel('Amplitude')\n",
    "    plt.title(f'Unprocessed Data Series with Spikes for Channel {channel_idx + 1}')\n",
    "\n",
    "    # Add legend\n",
    "    plt.legend()\n",
    "\n",
    "    # Show the plot\n",
    "    plt.grid(True)\n",
    "    plt.show()\n"
   ]
  },
  {
   "cell_type": "code",
   "execution_count": 42,
   "metadata": {},
   "outputs": [
    {
     "name": "stdout",
     "output_type": "stream",
     "text": [
      "32\n",
      "Shape of spike_indices: [216, 253, 345, 287, 221, 238, 234, 229, 264, 249, 233, 259, 239, 274, 225, 249, 325, 228, 237, 346, 246, 231, 265, 328, 290, 243, 251, 0, 222, 280, 266, 259]\n"
     ]
    }
   ],
   "source": [
    "spike_indices = find_spike_indices(all_data[0].T, processed = False)\n",
    "print(len(spike_indices))\n",
    "print(f\"Shape of spike_indices: {[len(indices) for indices in spike_indices]}\")\n",
    "# plot_spikes_with_data_unprocessed(all_data[0].T, 0, spike_indices, num_points=3000)"
   ]
  },
  {
   "cell_type": "code",
   "execution_count": null,
   "metadata": {},
   "outputs": [],
   "source": []
  }
 ],
 "metadata": {
  "kernelspec": {
   "display_name": "venv_thesis",
   "language": "python",
   "name": "python3"
  },
  "language_info": {
   "codemirror_mode": {
    "name": "ipython",
    "version": 3
   },
   "file_extension": ".py",
   "mimetype": "text/x-python",
   "name": "python",
   "nbconvert_exporter": "python",
   "pygments_lexer": "ipython3",
   "version": "3.11.5"
  }
 },
 "nbformat": 4,
 "nbformat_minor": 2
}
