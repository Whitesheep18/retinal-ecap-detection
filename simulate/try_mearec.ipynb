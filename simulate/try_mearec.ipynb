{
 "cells": [
  {
   "cell_type": "code",
   "execution_count": 1,
   "metadata": {},
   "outputs": [],
   "source": [
    "import pandas as pd\n",
    "import numpy as np\n",
    "import matplotlib.pyplot as plt\n",
    "import MEArec as mr\n"
   ]
  },
  {
   "cell_type": "code",
   "execution_count": 2,
   "metadata": {},
   "outputs": [
    {
     "data": {
      "text/plain": [
       "'/home/annareisz/.config/mearec/1.9.1/cell_models/bbp'"
      ]
     },
     "execution_count": 2,
     "metadata": {},
     "output_type": "execute_result"
    }
   ],
   "source": [
    "mr.get_default_cell_models_folder()"
   ]
  },
  {
   "cell_type": "code",
   "execution_count": 42,
   "metadata": {},
   "outputs": [
    {
     "name": "stderr",
     "output_type": "stream",
     "text": [
      "/home/annareisz/miniconda3/envs/mlsp/bin/nrnivmodl:10: DeprecationWarning: pkg_resources is deprecated as an API. See https://setuptools.pypa.io/en/latest/pkg_resources.html\n",
      "  from pkg_resources import working_set\n"
     ]
    },
    {
     "name": "stdout",
     "output_type": "stream",
     "text": [
      "/home/annareisz/.config/mearec/1.9.1/cell_models/bbp/mods\n",
      "Mod files: \"./CaDynamics_E2.mod\" \"./Ca_HVA.mod\" \"./Ca_LVAst.mod\" \"./Ca.mod\" \"./Ih.mod\" \"./Im.mod\" \"./K_Pst.mod\" \"./K_Tst.mod\" \"./Nap_Et2.mod\" \"./NaTa_t.mod\" \"./NaTs2_t.mod\" \"./ProbAMPANMDA_EMS.mod\" \"./ProbGABAAB_EMS.mod\" \"./SK_E2.mod\" \"./SKv3_1.mod\"\n",
      "\n",
      "Creating 'x86_64' directory for .o files.\n",
      "\n",
      " -> \u001b[32mCompiling\u001b[0m mod_func.cpp\n",
      " -> \u001b[32mNMODL\u001b[0m ../CaDynamics_E2.mod\n",
      " -> \u001b[32mNMODL\u001b[0m ../Ca_HVA.mod\n",
      " -> \u001b[32mNMODL\u001b[0m ../Ca_LVAst.mod\n",
      " -> \u001b[32mNMODL\u001b[0m ../Ca.mod\n",
      " -> \u001b[32mNMODL\u001b[0m ../Ih.mod\n",
      " -> \u001b[32mNMODL\u001b[0m ../Im.mod\n",
      " -> \u001b[32mNMODL\u001b[0m ../K_Pst.mod\n",
      " -> \u001b[32mNMODL\u001b[0m ../K_Tst.mod\n",
      " -> \u001b[32mNMODL\u001b[0m ../Nap_Et2.mod\n",
      " -> \u001b[32mNMODL\u001b[0m ../NaTa_t.mod\n",
      " -> \u001b[32mNMODL\u001b[0m ../NaTs2_t.mod\n",
      " -> \u001b[32mNMODL\u001b[0m ../ProbAMPANMDA_EMS.mod\n",
      " -> \u001b[32mNMODL\u001b[0m ../ProbGABAAB_EMS.mod\n",
      " -> \u001b[32mNMODL\u001b[0m ../SK_E2.mod\n",
      " -> \u001b[32mNMODL\u001b[0m ../SKv3_1.mod\n",
      " -> \u001b[32mCompiling\u001b[0m CaDynamics_E2.c\n",
      " -> \u001b[32mCompiling\u001b[0m Ca_HVA.c\n",
      " -> \u001b[32mCompiling\u001b[0m Ca_LVAst.c\n"
     ]
    },
    {
     "name": "stderr",
     "output_type": "stream",
     "text": [
      "Translating CaDynamics_E2.mod into /home/annareisz/.config/mearec/1.9.1/cell_models/bbp/mods/x86_64/CaDynamics_E2.c\n",
      "Translating Ca_HVA.mod into /home/annareisz/.config/mearec/1.9.1/cell_models/bbp/mods/x86_64/Ca_HVA.c\n",
      "Thread Safe\n",
      "Thread Safe\n",
      "Translating Ca_LVAst.mod into /home/annareisz/.config/mearec/1.9.1/cell_models/bbp/mods/x86_64/Ca_LVAst.c\n",
      "Translating Ca.mod into /home/annareisz/.config/mearec/1.9.1/cell_models/bbp/mods/x86_64/Ca.c\n",
      "Thread Safe\n",
      "Translating Ih.mod into /home/annareisz/.config/mearec/1.9.1/cell_models/bbp/mods/x86_64/Ih.c\n",
      "Thread Safe\n",
      "Thread Safe\n",
      "Translating Im.mod into /home/annareisz/.config/mearec/1.9.1/cell_models/bbp/mods/x86_64/Im.c\n",
      "Translating K_Pst.mod into /home/annareisz/.config/mearec/1.9.1/cell_models/bbp/mods/x86_64/K_Pst.c\n",
      "Thread Safe\n",
      "Thread Safe\n",
      "Translating K_Tst.mod into /home/annareisz/.config/mearec/1.9.1/cell_models/bbp/mods/x86_64/K_Tst.c\n",
      "Thread Safe\n",
      "Translating NaTa_t.mod into /home/annareisz/.config/mearec/1.9.1/cell_models/bbp/mods/x86_64/NaTa_t.c\n",
      "Translating Nap_Et2.mod into /home/annareisz/.config/mearec/1.9.1/cell_models/bbp/mods/x86_64/Nap_Et2.c\n",
      "Thread Safe\n",
      "Translating NaTs2_t.mod into /home/annareisz/.config/mearec/1.9.1/cell_models/bbp/mods/x86_64/NaTs2_t.c\n",
      "Thread Safe\n",
      "Thread Safe\n",
      "Translating ProbAMPANMDA_EMS.mod into /home/annareisz/.config/mearec/1.9.1/cell_models/bbp/mods/x86_64/ProbAMPANMDA_EMS.c\n",
      "Translating ProbGABAAB_EMS.mod into /home/annareisz/.config/mearec/1.9.1/cell_models/bbp/mods/x86_64/ProbGABAAB_EMS.c\n",
      "Notice: This mechanism cannot be used with CVODE\n",
      "Notice: A_AMPA discontinuity adjustment not available.\n",
      "Notice: B_AMPA discontinuity adjustment not available.\n",
      "Notice: A_NMDA discontinuity adjustment not available.\n",
      "Notice: B_NMDA discontinuity adjustment not available.\n",
      "Warning: dt undefined. (declared within VERBATIM?)\n",
      "Warning: value undefined. (declared within VERBATIM?)\n",
      "Thread Safe\n",
      "Translating SK_E2.mod into /home/annareisz/.config/mearec/1.9.1/cell_models/bbp/mods/x86_64/SK_E2.c\n",
      "Thread Safe\n",
      "Notice: This mechanism cannot be used with CVODE\n",
      "Notice: A_GABAA discontinuity adjustment not available.\n",
      "Notice: B_GABAA discontinuity adjustment not available.\n",
      "Notice: A_GABAB discontinuity adjustment not available.\n",
      "Notice: B_GABAB discontinuity adjustment not available.\n",
      "Warning: dt undefined. (declared within VERBATIM?)\n",
      "Warning: value undefined. (declared within VERBATIM?)\n",
      "Thread Safe\n",
      "Translating SKv3_1.mod into /home/annareisz/.config/mearec/1.9.1/cell_models/bbp/mods/x86_64/SKv3_1.c\n",
      "Thread Safe\n"
     ]
    },
    {
     "name": "stdout",
     "output_type": "stream",
     "text": [
      " -> \u001b[32mCompiling\u001b[0m Ca.c\n",
      " -> \u001b[32mCompiling\u001b[0m Ih.c\n",
      " -> \u001b[32mCompiling\u001b[0m Im.c\n",
      " -> \u001b[32mCompiling\u001b[0m K_Pst.c\n",
      " -> \u001b[32mCompiling\u001b[0m K_Tst.c\n",
      " -> \u001b[32mCompiling\u001b[0m Nap_Et2.c\n",
      " -> \u001b[32mCompiling\u001b[0m NaTa_t.c\n",
      " -> \u001b[32mCompiling\u001b[0m NaTs2_t.c\n",
      " -> \u001b[32mCompiling\u001b[0m ProbAMPANMDA_EMS.c\n",
      " -> \u001b[32mCompiling\u001b[0m ProbGABAAB_EMS.c\n",
      " -> \u001b[32mCompiling\u001b[0m SK_E2.c\n",
      " -> \u001b[32mCompiling\u001b[0m SKv3_1.c\n",
      " => \u001b[32mLINKING\u001b[0m shared library ./libnrnmech.so\n",
      " => \u001b[32mLINKING\u001b[0m executable ./special LDFLAGS are:    -pthread\n",
      "Successfully created x86_64/special\n",
      "cell_models_folder is different!\n",
      "Setting n_jobs to 8 CPUs\n",
      "Starting simulation 7/13 - cell: L5_NBC_bAC217_1\n",
      "\n",
      "Starting simulation 8/13 - cell: L5_NGC_bNAC219_1\n",
      "\n",
      "Starting simulation 3/13 - cell: L5_ChC_cACint209_1\n",
      "\n",
      "Starting simulation 5/13 - cell: L5_LBC_bAC217_1\n",
      "\n",
      "Starting simulation 1/13 - cell: L5_BP_bAC217_1\n",
      "\n",
      "Starting simulation 2/13 - cell: L5_BTC_bAC217_1\n",
      "\n",
      "Starting simulation 4/13 - cell: L5_DBC_bAC217_1\n",
      "\n",
      "Starting simulation 6/13 - cell: L5_MC_bAC217_1\n",
      "\n",
      "Intracellular simulation: /home/annareisz/.config/mearec/1.9.1/cell_models/bbp/L5_NGC_bNAC219_1\n",
      "Intracellular simulation: /home/annareisz/.config/mearec/1.9.1/cell_models/bbp/L5_NBC_bAC217_1\n",
      "Setting temperature to 34.000000 C\n",
      "Setting simulation time step to 0.025000 ms\n",
      "\t1 \n",
      "\t1 \n",
      "\t1 \n",
      "template bNAC219_L5_NGC_6186b7e85e exist already\n",
      "Setting temperature to 34.000000 C\n",
      "Setting simulation time step to 0.025000 ms\n",
      "\t1 \n",
      "\t1 \n",
      "\t1 \n",
      "template bAC217_L5_NBC_2db880c523 exist already\n",
      "Intracellular simulation: /home/annareisz/.config/mearec/1.9.1/cell_models/bbp/L5_ChC_cACint209_1\n",
      "Intracellular simulation: /home/annareisz/.config/mearec/1.9.1/cell_models/bbp/L5_BP_bAC217_1\n",
      "Intracellular simulation: /home/annareisz/.config/mearec/1.9.1/cell_models/bbp/L5_LBC_bAC217_1\n",
      "Intracellular simulation: /home/annareisz/.config/mearec/1.9.1/cell_models/bbp/L5_BTC_bAC217_1\n",
      "Intracellular simulation: /home/annareisz/.config/mearec/1.9.1/cell_models/bbp/L5_DBC_bAC217_1\n",
      "Setting temperature to 34.000000 C\n",
      "Setting simulation time step to 0.025000 ms\n",
      "\t1 \n",
      "\t1 \n",
      "\t1 \n",
      "Intracellular simulation: /home/annareisz/.config/mearec/1.9.1/cell_models/bbp/L5_MC_bAC217_1\n",
      "template cACint209_L5_ChC_e98f63217d exist already\n",
      "Setting temperature to 34.000000 C\n",
      "Setting simulation time step to 0.025000 ms\n",
      "\t1 \n",
      "\t1 \n",
      "\t1 \n",
      "template bAC217_L5_LBC_c2cff91741 exist already\n",
      "Setting temperature to 34.000000 C\n",
      "Setting simulation time step to 0.025000 ms\n",
      "\t1 \n",
      "\t1 \n",
      "\t1 \n",
      "template bAC217_L5_BP_d0cc8d7615 exist already\n",
      "Setting temperature to 34.000000 C\n",
      "Setting simulation time step to 0.025000 ms\n",
      "\t1 \n",
      "\t1 \n",
      "\t1 \n",
      "template bAC217_L5_BTC_160272643a exist already\n",
      "Setting temperature to 34.000000 C\n",
      "Setting simulation time step to 0.025000 ms\n",
      "\t1 \n",
      "\t1 \n",
      "\t1 \n",
      "template bAC217_L5_DBC_4765d943f4 exist already\n",
      "Setting temperature to 34.000000 C\n",
      "Setting simulation time step to 0.025000 ms\n",
      "\t1 \n",
      "\t1 \n",
      "\t1 \n",
      "template bAC217_L5_MC_cc2a170ef6 exist already\n",
      "Extracellular simulation: /home/annareisz/.config/mearec/1.9.1/cell_models/bbp/L5_BTC_bAC217_1\n",
      "Mechanisms already loaded from path: /home/annareisz/.config/mearec/1.9.1/cell_models/bbp/mods.  Aborting.\n",
      "template bAC217_L5_BTC_160272643a exist already\n",
      "Pre-generating 5000000 random positions\n",
      "Extracellular simulation: /home/annareisz/.config/mearec/1.9.1/cell_models/bbp/L5_MC_bAC217_1\n",
      "Mechanisms already loaded from path: /home/annareisz/.config/mearec/1.9.1/cell_models/bbp/mods.  Aborting.\n",
      "template bAC217_L5_MC_cc2a170ef6 exist already\n",
      "Pre-generating 5000000 random positions\n",
      "Extracellular simulation: /home/annareisz/.config/mearec/1.9.1/cell_models/bbp/L5_BP_bAC217_1\n",
      "Mechanisms already loaded from path: /home/annareisz/.config/mearec/1.9.1/cell_models/bbp/mods.  Aborting.\n",
      "template bAC217_L5_BP_d0cc8d7615 exist already\n",
      "Pre-generating 5000000 random positions\n",
      "Extracellular simulation: /home/annareisz/.config/mearec/1.9.1/cell_models/bbp/L5_DBC_bAC217_1\n",
      "Mechanisms already loaded from path: /home/annareisz/.config/mearec/1.9.1/cell_models/bbp/mods.  Aborting.\n",
      "template bAC217_L5_DBC_4765d943f4 exist already\n",
      "Pre-generating 5000000 random positions\n",
      "Extracellular simulation: /home/annareisz/.config/mearec/1.9.1/cell_models/bbp/L5_NBC_bAC217_1\n",
      "Mechanisms already loaded from path: /home/annareisz/.config/mearec/1.9.1/cell_models/bbp/mods.  Aborting.\n",
      "template bAC217_L5_NBC_2db880c523 exist already\n",
      "Pre-generating 5000000 random positions\n",
      "Extracellular simulation: /home/annareisz/.config/mearec/1.9.1/cell_models/bbp/L5_NGC_bNAC219_1\n",
      "Mechanisms already loaded from path: /home/annareisz/.config/mearec/1.9.1/cell_models/bbp/mods.  Aborting.\n",
      "template bNAC219_L5_NGC_6186b7e85e exist already\n",
      "Pre-generating 5000000 random positions\n",
      "Extracellular simulation: /home/annareisz/.config/mearec/1.9.1/cell_models/bbp/L5_LBC_bAC217_1\n",
      "Mechanisms already loaded from path: /home/annareisz/.config/mearec/1.9.1/cell_models/bbp/mods.  Aborting.\n",
      "template bAC217_L5_LBC_c2cff91741 exist already\n",
      "Pre-generating 5000000 random positions\n",
      "Extracellular simulation: /home/annareisz/.config/mearec/1.9.1/cell_models/bbp/L5_ChC_cACint209_1\n",
      "Mechanisms already loaded from path: /home/annareisz/.config/mearec/1.9.1/cell_models/bbp/mods.  Aborting.\n",
      "template cACint209_L5_ChC_e98f63217d exist already\n",
      "Pre-generating 5000000 random positions\n",
      "Starting simulation 9/13 - cell: L5_SBC_bNAC219_1\n",
      "\n",
      "Intracellular simulation: /home/annareisz/.config/mearec/1.9.1/cell_models/bbp/L5_SBC_bNAC219_1\n",
      "Setting temperature to 34.000000 C\n",
      "Setting simulation time step to 0.025000 ms\n",
      "\t1 \n",
      "\t1 \n",
      "\t1 \n",
      "template bNAC219_L5_SBC_77ab259b7f exist already\n",
      "Starting simulation 10/13 - cell: L5_STPC_cADpyr232_1\n",
      "\n",
      "Intracellular simulation: /home/annareisz/.config/mearec/1.9.1/cell_models/bbp/L5_STPC_cADpyr232_1\n",
      "Setting temperature to 34.000000 C\n",
      "Setting simulation time step to 0.025000 ms\n",
      "\t1 \n",
      "\t1 \n",
      "\t1 \n",
      "template cADpyr232_L5_STPC_d16b0be14e exist already\n",
      "Extracellular simulation: /home/annareisz/.config/mearec/1.9.1/cell_models/bbp/L5_SBC_bNAC219_1\n",
      "Mechanisms already loaded from path: /home/annareisz/.config/mearec/1.9.1/cell_models/bbp/mods.  Aborting.\n",
      "template bNAC219_L5_SBC_77ab259b7f exist already\n",
      "Pre-generating 5000000 random positions\n",
      "Starting simulation 11/13 - cell: L5_TTPC1_cADpyr232_1\n",
      "\n",
      "Intracellular simulation: /home/annareisz/.config/mearec/1.9.1/cell_models/bbp/L5_TTPC1_cADpyr232_1\n",
      "Setting temperature to 34.000000 C\n",
      "Setting simulation time step to 0.025000 ms\n",
      "\t1 \n",
      "\t1 \n",
      "\t1 \n",
      "template cADpyr232_L5_TTPC1_0fb1ca4724 exist already\n",
      "Starting simulation 12/13 - cell: L5_TTPC2_cADpyr232_1\n",
      "\n",
      "Intracellular simulation: /home/annareisz/.config/mearec/1.9.1/cell_models/bbp/L5_TTPC2_cADpyr232_1\n",
      "Setting temperature to 34.000000 C\n",
      "Setting simulation time step to 0.025000 ms\n",
      "\t1 \n",
      "\t1 \n",
      "\t1 \n",
      "template cADpyr232_L5_TTPC2_8052133265 exist already\n",
      "Extracellular simulation: /home/annareisz/.config/mearec/1.9.1/cell_models/bbp/L5_STPC_cADpyr232_1\n",
      "Mechanisms already loaded from path: /home/annareisz/.config/mearec/1.9.1/cell_models/bbp/mods.  Aborting.\n",
      "template cADpyr232_L5_STPC_d16b0be14e exist already\n",
      "Pre-generating 5000000 random positions\n",
      "Starting simulation 13/13 - cell: L5_UTPC_cADpyr232_1\n",
      "\n",
      "Intracellular simulation: /home/annareisz/.config/mearec/1.9.1/cell_models/bbp/L5_UTPC_cADpyr232_1\n",
      "Setting temperature to 34.000000 C\n",
      "Setting simulation time step to 0.025000 ms\n",
      "\t1 \n",
      "\t1 \n",
      "\t1 \n",
      "template cADpyr232_L5_UTPC_5e3840b51e exist already\n",
      "Extracellular simulation: /home/annareisz/.config/mearec/1.9.1/cell_models/bbp/L5_UTPC_cADpyr232_1\n",
      "Mechanisms already loaded from path: /home/annareisz/.config/mearec/1.9.1/cell_models/bbp/mods.  Aborting.\n",
      "template cADpyr232_L5_UTPC_5e3840b51e exist already\n",
      "Pre-generating 5000000 random positions\n",
      "Extracellular simulation: /home/annareisz/.config/mearec/1.9.1/cell_models/bbp/L5_TTPC1_cADpyr232_1\n",
      "Mechanisms already loaded from path: /home/annareisz/.config/mearec/1.9.1/cell_models/bbp/mods.  Aborting.\n",
      "template cADpyr232_L5_TTPC1_0fb1ca4724 exist already\n",
      "Pre-generating 5000000 random positions\n",
      "Extracellular simulation: /home/annareisz/.config/mearec/1.9.1/cell_models/bbp/L5_TTPC2_cADpyr232_1\n",
      "Mechanisms already loaded from path: /home/annareisz/.config/mearec/1.9.1/cell_models/bbp/mods.  Aborting.\n",
      "template cADpyr232_L5_TTPC2_8052133265 exist already\n",
      "Pre-generating 5000000 random positions\n",
      "Aggregating templates\n",
      "\n",
      "\n",
      "\n",
      "Simulation time: 122.53944969177246\n",
      "\n",
      "\n",
      "\n"
     ]
    }
   ],
   "source": [
    "\n",
    "cell_models_folder = \"/home/annareisz/.config/mearec/1.9.1/cell_models/bbp\"\n",
    "tempgen = mr.gen_templates(cell_models_folder, params=None, templates_tmp_folder=None, intraonly=False, parallel=True,\n",
    "                           recompile=False, n_jobs=None, delete_tmp=True, verbose=False)"
   ]
  },
  {
   "cell_type": "code",
   "execution_count": 56,
   "metadata": {},
   "outputs": [
    {
     "data": {
      "text/plain": [
       "array([17.40153159, -0.89352644, -0.579501  ])"
      ]
     },
     "execution_count": 56,
     "metadata": {},
     "output_type": "execute_result"
    }
   ],
   "source": [
    "tempgen.locations[400, :]"
   ]
  },
  {
   "cell_type": "code",
   "execution_count": 64,
   "metadata": {},
   "outputs": [
    {
     "data": {
      "text/plain": [
       "<Axes: >"
      ]
     },
     "execution_count": 64,
     "metadata": {},
     "output_type": "execute_result"
    },
    {
     "data": {
      "image/png": "[encoded data removed]",
      "text/plain": [
       "<Figure size 640x480 with 1 Axes>"
      ]
     },
     "metadata": {},
     "output_type": "display_data"
    }
   ],
   "source": [
    "mr.plot_templates(tempgen, template_ids=400, drifting=True, cmap='Reds')"
   ]
  },
  {
   "cell_type": "code",
   "execution_count": null,
   "metadata": {},
   "outputs": [],
   "source": []
  }
 ],
 "metadata": {
  "kernelspec": {
   "display_name": "mlsp",
   "language": "python",
   "name": "python3"
  },
  "language_info": {
   "codemirror_mode": {
    "name": "ipython",
    "version": 3
   },
   "file_extension": ".py",
   "mimetype": "text/x-python",
   "name": "python",
   "nbconvert_exporter": "python",
   "pygments_lexer": "ipython3",
   "version": "3.11.5"
  }
 },
 "nbformat": 4,
 "nbformat_minor": 2
}
