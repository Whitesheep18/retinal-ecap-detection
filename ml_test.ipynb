{
 "cells": [
  {
   "cell_type": "markdown",
   "metadata": {},
   "source": [
    "## Results of classification"
   ]
  },
  {
   "cell_type": "code",
   "execution_count": 1,
   "metadata": {},
   "outputs": [
    {
     "name": "stdout",
     "output_type": "stream",
     "text": [
      "Accuracy: 0.72\n",
      "Precision: 0.72\n",
      "Recall: 1.00\n",
      "F1-Score: 0.84\n"
     ]
    }
   ],
   "source": [
    "# Given values for TP, TN, FP, FN\n",
    "TN = 0  # True Negatives\n",
    "FP = 167    # False Positives\n",
    "FN = 0    # False Negatives\n",
    "TP = 433  # True Positives\n",
    "\n",
    "# Calculate Accuracy\n",
    "accuracy = (TP + TN) / (TP + TN + FP + FN)\n",
    "\n",
    "# Calculate Precision\n",
    "precision = TP / (TP + FP) if (TP + FP) != 0 else 0\n",
    "\n",
    "# Calculate Recall\n",
    "recall = TP / (TP + FN) if (TP + FN) != 0 else 0\n",
    "\n",
    "# Calculate F1-Score\n",
    "f1_score = 2 * (precision * recall) / (precision + recall) if (precision + recall) != 0 else 0\n",
    "\n",
    "# Print the results\n",
    "print(f\"Accuracy: {accuracy:.2f}\")\n",
    "print(f\"Precision: {precision:.2f}\")\n",
    "print(f\"Recall: {recall:.2f}\")\n",
    "print(f\"F1-Score: {f1_score:.2f}\")\n"
   ]
  },
  {
   "cell_type": "code",
   "execution_count": 2,
   "metadata": {},
   "outputs": [
    {
     "data": {
      "text/plain": [
       "{'Accuracy': 0.89,\n",
       " 'Precision': 0.8874999999999998,\n",
       " 'Recall': 0.9991666666666666,\n",
       " 'F1-Score': 0.9366666666666665}"
      ]
     },
     "execution_count": 2,
     "metadata": {},
     "output_type": "execute_result"
    }
   ],
   "source": [
    "# Calculating the averages for Accuracy, Precision, Recall, and F1-Score\n",
    "\n",
    "# Input data\n",
    "data = {\n",
    "    \"Accuracy\": [0.72, 0.72, 0.88, 0.72, 1.00, 0.72, 1.00, 0.92, 1.00, 1.00, 1.00, 1.00],\n",
    "    \"Precision\": [0.72, 0.72, 0.86, 0.72, 1.00, 0.72, 1.00, 0.91, 1.00, 1.00, 1.00, 1.00],\n",
    "    \"Recall\": [1.00, 1.00, 1.00, 1.00, 1.00, 0.99, 1.00, 1.00, 1.00, 1.00, 1.00, 1.00],\n",
    "    \"F1-Score\": [0.84, 0.84, 0.93, 0.84, 1.00, 0.84, 1.00, 0.95, 1.00, 1.00, 1.00, 1.00]\n",
    "}\n",
    "\n",
    "# Compute averages\n",
    "averages = {metric: sum(values) / len(values) for metric, values in data.items()}\n",
    "averages\n"
   ]
  },
  {
   "cell_type": "markdown",
   "metadata": {},
   "source": [
    "## Analysis of classification results"
   ]
  },
  {
   "cell_type": "code",
   "execution_count": 5,
   "metadata": {},
   "outputs": [],
   "source": [
    "import os\n",
    "import numpy as np\n",
    "import matplotlib.pyplot as plt\n",
    "from src.utils import save_figure"
   ]
  },
  {
   "cell_type": "code",
   "execution_count": 14,
   "metadata": {},
   "outputs": [],
   "source": [
    "# Define datasets\n",
    "dataset1 = 'simulated_data/DS_20_10_10'\n",
    "dataset2 = 'simulated_data/DS_20_80_10'\n",
    "\n",
    "# Load the datasets\n",
    "X1 = np.load(os.path.join(dataset1, \"X.npy\"))\n",
    "X2 = np.load(os.path.join(dataset2, \"X.npy\"))\n",
    "\n",
    "# Plot the first sample from both datasets for comparison\n",
    "plt.figure(figsize=(12, 6))\n",
    "plt.plot(X1[2005], label='White SNR = 20 and ME SNR = 10', alpha=0.7)\n",
    "plt.plot(X2[2005], label='White SNR = 20 and ME SNR = 80', alpha=0.7)\n",
    "\n",
    "plt.title(\"Comparison of sample with activity from two datasets\")\n",
    "plt.xlabel(\"Time Index\")\n",
    "plt.ylabel(\"Voltage (uV)\")\n",
    "plt.xlim(0, 1000)\n",
    "plt.ylim(-1000, 1000)\n",
    "plt.legend(loc = 'upper right' )\n",
    "plt.grid(True)\n",
    "save_figure(name='Classification_act', figdir='./plots', width=3, height=2) \n"
   ]
  },
  {
   "cell_type": "code",
   "execution_count": 13,
   "metadata": {},
   "outputs": [],
   "source": [
    "# Plot the first sample from both datasets for comparison\n",
    "plt.figure(figsize=(12, 6))\n",
    "plt.plot(X1[5], label='White SNR = 20 and ME SNR = 10', alpha=0.7)\n",
    "plt.plot(X2[5], label='White SNR = 20 and ME SNR = 80', alpha=0.7)\n",
    "\n",
    "plt.title(\"Comparison of sample without activity from two datasets\")\n",
    "plt.xlabel(\"Time Index\")\n",
    "plt.ylabel(\"Voltage (uV)\")\n",
    "plt.xlim(0, 1000)\n",
    "plt.ylim(-1000, 1000)\n",
    "plt.legend(loc='upper right')\n",
    "plt.grid(True)\n",
    "save_figure(name='Classification_no_act', figdir='./plots', width=3, height=2) "
   ]
  },
  {
   "cell_type": "code",
   "execution_count": 12,
   "metadata": {},
   "outputs": [
    {
     "name": "stdout",
     "output_type": "stream",
     "text": [
      "Train and test Classifier Accuracy: 1.0 1.0\n"
     ]
    }
   ],
   "source": [
    "from sklearn.ensemble import RandomForestClassifier\n",
    "from sklearn.metrics import r2_score, root_mean_squared_error, accuracy_score, mean_absolute_percentage_error, recall_score, precision_score, f1_score\n",
    "from sklearn.model_selection import train_test_split\n",
    "\n",
    "dataset1 = 'simulated_data/DS_20_10_10'\n",
    "\n",
    "classifier = RandomForestClassifier()\n",
    "X = np.load(os.path.join(dataset1, \"X.npy\"))\n",
    "y_reg = np.load(os.path.join(dataset1, \"y_reg.npy\"))\n",
    "y_class = [0 if value < 5 else 1 for value in y_reg]\n",
    "\n",
    "X_train, X_temp, y_class_train, y_class_temp, y_reg_train, y_reg_temp = train_test_split(\n",
    "X, y_class, y_reg, test_size=0.3, random_state=42)\n",
    "X_val, X_test, y_class_val, y_class_test, y_reg_val, y_reg_test = train_test_split(\n",
    "X_temp, y_class_temp, y_reg_temp, test_size=0.5, random_state=42)\n",
    "\n",
    "classifier.fit(X_train, np.array(y_class_train))\n",
    "\n",
    "y_class_train_pred = classifier.predict(X_train)\n",
    "y_class_val_pred = classifier.predict(X_val)\n",
    "y_class_test_pred = classifier.predict(X_test)\n",
    "\n",
    "accuracy_train = accuracy_score(y_class_train, y_class_train_pred)\n",
    "accuracy_test = accuracy_score(y_class_test, y_class_test_pred)\n",
    "\n",
    "print(\"Train and test Classifier Accuracy:\", accuracy_train, accuracy_test)\n",
    "\n",
    "\n"
   ]
  },
  {
   "cell_type": "code",
   "execution_count": 9,
   "metadata": {},
   "outputs": [
    {
     "name": "stdout",
     "output_type": "stream",
     "text": [
      "Predicted probabilities for class 1: [0.84 0.96 0.75 0.85 0.97 0.43 0.72 0.8  0.78 0.77]\n"
     ]
    }
   ],
   "source": [
    "# Get probabilities for each class (for example, class 1)\n",
    "y_class_prob = classifier.predict_proba(X_test)[:, 1]  # Class 1 probability\n",
    "\n",
    "# Verify if the classifier outputs probabilities\n",
    "print(f\"Predicted probabilities for class 1: {y_class_prob[:10]}\")\n"
   ]
  },
  {
   "cell_type": "code",
   "execution_count": 18,
   "metadata": {},
   "outputs": [],
   "source": [
    "# Get feature importance\n",
    "feature_importances = classifier.feature_importances_\n",
    "\n",
    "# Plot feature importance\n",
    "plt.figure(figsize=(12, 6))\n",
    "plt.plot(feature_importances, label=\"Feature Importance\", color = 'magenta')\n",
    "plt.title(\"DS: White SNR = 20 ME SNR = 80 - Feature Importance\")\n",
    "plt.xlabel(\"Time Point Index\")\n",
    "plt.ylabel(\"Importance\")\n",
    "plt.legend()\n",
    "# plt.grid(True)\n",
    "save_figure(name='Classificaton_FI_DS_80_10', figdir='./plots', width=3, height=2) \n"
   ]
  },
  {
   "cell_type": "code",
   "execution_count": 29,
   "metadata": {},
   "outputs": [],
   "source": [
    "plt.figure(figsize=(12, 6))\n",
    "plt.plot(feature_importances*15000, label=\"Feature Importance\", color = 'magenta',alpha=1)\n",
    "plt.title(\"Comparison of feature importance and sample without activity\")\n",
    "plt.xlabel(\"Time Point Index\")\n",
    "plt.ylabel(\"Importance\")\n",
    "plt.plot(X1[5], label='DS: White SNR = 20 and ME SNR = 10', alpha=0.5)\n",
    "plt.legend()\n",
    "save_figure(name='FI_overlay', figdir='./plots', height=4, width=6)"
   ]
  },
  {
   "cell_type": "markdown",
   "metadata": {},
   "source": [
    "## Plots of simulated data"
   ]
  },
  {
   "cell_type": "code",
   "execution_count": 9,
   "metadata": {},
   "outputs": [],
   "source": [
    "# Define datasets\n",
    "dataset1 = 'simulated_data/DS_-10_10_10'\n",
    "dataset2 = 'simulated_data/DS_-10_80_10'\n",
    "dataset3 = 'simulated_data/DS_0_10_10'\n",
    "dataset4 = 'simulated_data/DS_0_80_10'\n",
    "dataset5 = 'simulated_data/DS_10_10_10'\n",
    "dataset6 = 'simulated_data/DS_10_80_10'\n",
    "dataset7 = 'simulated_data/DS_20_10_10'\n",
    "dataset8 = 'simulated_data/DS_20_80_10'\n",
    "dataset9 = 'simulated_data/DS_50_10_10'\n",
    "dataset10 = 'simulated_data/DS_50_80_10'\n",
    "dataset11 = 'simulated_data/DS_80_10_10'\n",
    "dataset12 = 'simulated_data/DS_80_80_10'\n",
    "\n",
    "# Load the datasets\n",
    "X1 = np.load(os.path.join(dataset1, \"X.npy\"))\n",
    "X2 = np.load(os.path.join(dataset2, \"X.npy\"))\n",
    "X3 = np.load(os.path.join(dataset3, \"X.npy\"))\n",
    "X4 = np.load(os.path.join(dataset4, \"X.npy\"))\n",
    "X5 = np.load(os.path.join(dataset5, \"X.npy\"))\n",
    "X6 = np.load(os.path.join(dataset6, \"X.npy\"))\n",
    "X7 = np.load(os.path.join(dataset7, \"X.npy\"))\n",
    "X8 = np.load(os.path.join(dataset8, \"X.npy\"))\n",
    "X9 = np.load(os.path.join(dataset9, \"X.npy\"))\n",
    "X10 = np.load(os.path.join(dataset10, \"X.npy\"))\n",
    "X11 = np.load(os.path.join(dataset11, \"X.npy\"))\n",
    "X12 = np.load(os.path.join(dataset12, \"X.npy\"))"
   ]
  },
  {
   "cell_type": "code",
   "execution_count": 22,
   "metadata": {},
   "outputs": [],
   "source": [
    "# Create a 3x2 figure layout\n",
    "fig, axs = plt.subplots(3, 2, figsize=(12, 9),constrained_layout=True)\n",
    "\n",
    "# Plot the first sample from both datasets for comparison\n",
    "# You can use different axes (axs[row, col]) for each subplot\n",
    "\n",
    "axs[0, 0].plot(X1[2005], label='White SNR = -10 and ME SNR = 10', alpha=0.7)\n",
    "axs[0, 0].plot(X2[2005], label='White SNR = -10 and ME SNR = 80', alpha=0.7)\n",
    "axs[0, 0].set_xlabel(\"Time Index\")\n",
    "axs[0, 0].set_ylabel(\"Voltage (uV)\")\n",
    "axs[0, 0].set_xlim(0, 2700)\n",
    "axs[0, 0].set_ylim(-5000, 5000)\n",
    "axs[0, 0].legend(loc='upper right')\n",
    "axs[0, 0].grid(True)\n",
    "\n",
    "axs[0, 1].plot(X3[2005], label='White SNR = 0 and ME SNR = 10', alpha=0.7)\n",
    "axs[0, 1].plot(X4[2005], label='White SNR = 0 and ME SNR = 80', alpha=0.7)\n",
    "axs[0, 1].set_xlabel(\"Time Index\")\n",
    "axs[0, 1].set_ylabel(\"Voltage (uV)\")\n",
    "# axs[0, 1].set_xlim(0, 2700)\n",
    "axs[0, 1].set_ylim(-5000, 5000)\n",
    "axs[0, 1].legend(loc='upper right')\n",
    "axs[0, 1].grid(True)\n",
    "\n",
    "axs[1, 0].plot(X5[2005], label='White SNR = 10 and ME SNR = 10', alpha=0.7)\n",
    "axs[1, 0].plot(X6[2005], label='White SNR = 10 and ME SNR = 80', alpha=0.7)\n",
    "axs[1, 0].set_xlabel(\"Time Index\")\n",
    "axs[1, 0].set_ylabel(\"Voltage (uV)\")\n",
    "# axs[1, 0].set_xlim(0, 2700)\n",
    "axs[1, 0].set_ylim(-5000, 5000)\n",
    "axs[1, 0].legend(loc='upper right')\n",
    "axs[1, 0].grid(True)\n",
    "\n",
    "axs[1, 1].plot(X7[2005], label='White SNR = 20 and ME SNR = 10', alpha=0.7)\n",
    "axs[1, 1].plot(X8[2005], label='White SNR = 20 and ME SNR = 80', alpha=0.7)\n",
    "axs[1, 1].set_xlabel(\"Time Index\")\n",
    "axs[1, 1].set_ylabel(\"Voltage (uV)\")\n",
    "# axs[1, 1].set_xlim(0, 2700)\n",
    "axs[1, 1].set_ylim(-5000, 5000)\n",
    "axs[1, 1].legend(loc='upper right')\n",
    "axs[1, 1].grid(True)\n",
    "\n",
    "axs[2, 0].plot(X9[2005], label='White SNR = 50 and ME SNR = 10', alpha=0.7)\n",
    "axs[2, 0].plot(X10[2005], label='White SNR = 50 and ME SNR = 80', alpha=0.7)\n",
    "axs[2, 0].set_xlabel(\"Time Index\")\n",
    "axs[2, 0].set_ylabel(\"Voltage (uV)\")\n",
    "# axs[2, 0].set_xlim(0, 2700)\n",
    "axs[2, 0].set_ylim(-5000, 5000)\n",
    "axs[2, 0].legend(loc='upper right')\n",
    "axs[2, 0].grid(True)\n",
    "\n",
    "axs[2, 1].plot(X11[2005], label='White SNR = 80 and ME SNR = 10', alpha=0.7)\n",
    "axs[2, 1].plot(X12[2005], label='White SNR = 80 and ME SNR = 80', alpha=0.7)\n",
    "axs[2, 1].set_xlabel(\"Time Index\")\n",
    "axs[2, 1].set_ylabel(\"Voltage (uV)\")\n",
    "#axs[2, 1].set_xlim(0, 2700)\n",
    "axs[2, 1].set_ylim(-5000, 5000)\n",
    "axs[2, 1].legend(loc='upper right')\n",
    "axs[2, 1].grid(True)\n",
    "\n",
    "plt.suptitle(\"Comparison of Simulated Datasets with varying White and ME SNRs\")\n",
    "\n",
    "# Show the plot\n",
    "save_figure(name='sim_data_plot', figdir='./plots', width=6, height=5) \n"
   ]
  },
  {
   "cell_type": "code",
   "execution_count": null,
   "metadata": {},
   "outputs": [],
   "source": []
  }
 ],
 "metadata": {
  "kernelspec": {
   "display_name": "irishcream",
   "language": "python",
   "name": "python3"
  },
  "language_info": {
   "codemirror_mode": {
    "name": "ipython",
    "version": 3
   },
   "file_extension": ".py",
   "mimetype": "text/x-python",
   "name": "python",
   "nbconvert_exporter": "python",
   "pygments_lexer": "ipython3",
   "version": "3.10.12"
  }
 },
 "nbformat": 4,
 "nbformat_minor": 2
}
